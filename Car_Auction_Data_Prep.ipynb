{
 "cells": [
  {
   "cell_type": "markdown",
   "metadata": {},
   "source": [
    "#Sourcing and Preparing the Data From Central Car Auction\n",
    "\n",
    "**Data Source**\n",
    "Webpage:  http://www.centralcarauctions.com/trade/vehicles/price-guide/price-guide?page=1\n",
    "\n",
    "Date Accessed: July 2014 \n",
    "\n",
    "Steps in this notebook: \n",
    "\n",
    "1. Read in downloaded copy of webpage and find the car info with BS4.  \n",
    "2. Extract data to a structured pandas data frame.\n",
    "3. Data pre-processing/filtering/munging/data type convertion.\n",
    "4. Feature Encoding of categorical variables.\n",
    "5. Write raw and encoded data to csv."
   ]
  },
  {
   "cell_type": "markdown",
   "metadata": {},
   "source": [
    "### Load HTML and Find List Items"
   ]
  },
  {
   "cell_type": "code",
   "execution_count": 1,
   "metadata": {
    "collapsed": false
   },
   "outputs": [
    {
     "name": "stdout",
     "output_type": "stream",
     "text": [
      "Populating the interactive namespace from numpy and matplotlib\n"
     ]
    }
   ],
   "source": [
    "%pylab --no-import-all inline\n",
    "from bs4 import BeautifulSoup\n",
    "import pandas as pd \n",
    "\n",
    "soup = BeautifulSoup(open('centralcarauctions.html'))\n",
    "entries = soup.find_all('li', class_=\"p-g-item\") "
   ]
  },
  {
   "cell_type": "markdown",
   "metadata": {},
   "source": [
    "### Extract Data to Data Frame"
   ]
  },
  {
   "cell_type": "code",
   "execution_count": 2,
   "metadata": {
    "collapsed": false
   },
   "outputs": [
    {
     "data": {
      "text/html": [
       "<div style=\"max-height:1000px;max-width:1500px;overflow:auto;\">\n",
       "<table border=\"1\" class=\"dataframe\">\n",
       "  <thead>\n",
       "    <tr style=\"text-align: right;\">\n",
       "      <th></th>\n",
       "      <th>make</th>\n",
       "      <th>model</th>\n",
       "      <th>trim</th>\n",
       "      <th>class</th>\n",
       "      <th>year</th>\n",
       "      <th>mileage</th>\n",
       "      <th>MOT</th>\n",
       "      <th>price</th>\n",
       "    </tr>\n",
       "  </thead>\n",
       "  <tbody>\n",
       "    <tr>\n",
       "      <th>0</th>\n",
       "      <td> ALFA ROMEO</td>\n",
       "      <td> 147</td>\n",
       "      <td>      COLLEZIONE TS - 1598CC</td>\n",
       "      <td> 5dr Hatchback</td>\n",
       "      <td> Jun 2008 (08)</td>\n",
       "      <td> 58,666</td>\n",
       "      <td>     None</td>\n",
       "      <td> £1,850.00</td>\n",
       "    </tr>\n",
       "    <tr>\n",
       "      <th>1</th>\n",
       "      <td> ALFA ROMEO</td>\n",
       "      <td> 147</td>\n",
       "      <td>        Q2 JTDM 16V - 1910CC</td>\n",
       "      <td> 3dr Hatchback</td>\n",
       "      <td> Sep 2007 (57)</td>\n",
       "      <td> 69,086</td>\n",
       "      <td> Sep 2014</td>\n",
       "      <td> £2,625.00</td>\n",
       "    </tr>\n",
       "    <tr>\n",
       "      <th>2</th>\n",
       "      <td> ALFA ROMEO</td>\n",
       "      <td> 156</td>\n",
       "      <td>      T SPARK LUSSO - 1747CC</td>\n",
       "      <td>    5dr Estate</td>\n",
       "      <td> May 2003 (03)</td>\n",
       "      <td> 85,959</td>\n",
       "      <td> Jan 2015</td>\n",
       "      <td>   £325.00</td>\n",
       "    </tr>\n",
       "    <tr>\n",
       "      <th>3</th>\n",
       "      <td> ALFA ROMEO</td>\n",
       "      <td> 156</td>\n",
       "      <td>         VELOCE JTS - 1970CC</td>\n",
       "      <td>    4dr Saloon</td>\n",
       "      <td> Sep 2004 (54)</td>\n",
       "      <td> 98,670</td>\n",
       "      <td> Sep 2014</td>\n",
       "      <td>   £300.00</td>\n",
       "    </tr>\n",
       "    <tr>\n",
       "      <th>4</th>\n",
       "      <td> ALFA ROMEO</td>\n",
       "      <td> 159</td>\n",
       "      <td> LUSSO JTDM S-WAGON - 1910CC</td>\n",
       "      <td>    5dr Estate</td>\n",
       "      <td> Dec 2007 (57)</td>\n",
       "      <td> 87,890</td>\n",
       "      <td> May 2015</td>\n",
       "      <td> £3,500.00</td>\n",
       "    </tr>\n",
       "  </tbody>\n",
       "</table>\n",
       "</div>"
      ],
      "text/plain": [
       "         make model                         trim          class  \\\n",
       "0  ALFA ROMEO   147       COLLEZIONE TS - 1598CC  5dr Hatchback   \n",
       "1  ALFA ROMEO   147         Q2 JTDM 16V - 1910CC  3dr Hatchback   \n",
       "2  ALFA ROMEO   156       T SPARK LUSSO - 1747CC     5dr Estate   \n",
       "3  ALFA ROMEO   156          VELOCE JTS - 1970CC     4dr Saloon   \n",
       "4  ALFA ROMEO   159  LUSSO JTDM S-WAGON - 1910CC     5dr Estate   \n",
       "\n",
       "            year mileage       MOT      price  \n",
       "0  Jun 2008 (08)  58,666      None  £1,850.00  \n",
       "1  Sep 2007 (57)  69,086  Sep 2014  £2,625.00  \n",
       "2  May 2003 (03)  85,959  Jan 2015    £325.00  \n",
       "3  Sep 2004 (54)  98,670  Sep 2014    £300.00  \n",
       "4  Dec 2007 (57)  87,890  May 2015  £3,500.00  "
      ]
     },
     "execution_count": 2,
     "metadata": {},
     "output_type": "execute_result"
    }
   ],
   "source": [
    "from collections import defaultdict\n",
    "\n",
    "data_dict = defaultdict(list) \n",
    "\n",
    "for ent in entries:\n",
    "    items = ent.find_all('span')\n",
    "    data_dict['make'].append(items[0].string)\n",
    "    \n",
    "    text = items[1].string.split(' ')\n",
    "    data_dict['model'].append(text[0])\n",
    "    data_dict['trim'].append(' '.join(text[1:]))\n",
    "    \n",
    "    data_dict['class'].append(items[2].string)\n",
    "    data_dict['year'].append(items[4].string)\n",
    "    data_dict['MOT'].append(items[6].string)\n",
    "    data_dict['mileage'].append(items[8].string)\n",
    "    data_dict['price'].append(items[9].string)\n",
    "\n",
    "data_headers = ['make', 'model', 'trim', 'class', 'year', 'mileage', 'MOT', 'price']\n",
    "df_raw = pd.DataFrame(data_dict, columns=data_headers)\n",
    "df_raw.head()"
   ]
  },
  {
   "cell_type": "markdown",
   "metadata": {},
   "source": [
    "### Write raw data.csv"
   ]
  },
  {
   "cell_type": "code",
   "execution_count": 3,
   "metadata": {
    "collapsed": false
   },
   "outputs": [],
   "source": [
    "df_raw.to_csv('car_auction_raw.csv', index=False)"
   ]
  },
  {
   "cell_type": "markdown",
   "metadata": {},
   "source": [
    "# Variable Descriptions\n",
    "\n",
    "* **make**:    Categorical \n",
    "* **model**:   Categorical\n",
    "* **trim**:    Categorical but high number of choices\n",
    "* **desc**:    Categorical \n",
    "* **year**:    Ordinal\n",
    "* **mileage**: Number, Integer\n",
    "* **MOT**:     Ordinal (Based on amount of time remaining)\n",
    "* **price**:   Number, Float\n",
    "\n",
    "##Encoding Strategy \n",
    "\n",
    "* Categorical: Numbered according to Alphabetised unique entries.  \n",
    "* Ordinal Variables: Increasing or decreasing. \n",
    "\n",
    "## First Guess at Informative Feature Subset\n",
    "1. **Make** or **Model** depending on granularity needed, probabliy dont need both.  \n",
    "2. **desc** good at representing general class of the vehical  \n",
    "3. **year**:   Likely to correlate negatively with price\n",
    "4. **mileage**: Similar as above \n",
    "5. **MOT**:     Based on amount of time remaining, higher may correlate with higher price  \n",
    "\n",
    "Target Variable: **price**   \n"
   ]
  },
  {
   "cell_type": "markdown",
   "metadata": {},
   "source": [
    "# Data Pre-processing  "
   ]
  },
  {
   "cell_type": "code",
   "execution_count": 4,
   "metadata": {
    "collapsed": false
   },
   "outputs": [],
   "source": [
    "df_pro = df_raw.copy()"
   ]
  },
  {
   "cell_type": "markdown",
   "metadata": {},
   "source": [
    "### Dealing with Dates "
   ]
  },
  {
   "cell_type": "code",
   "execution_count": 5,
   "metadata": {
    "collapsed": false
   },
   "outputs": [],
   "source": [
    "# Convert MOT and Year to date time \n",
    "df_pro.MOT = df_raw.MOT\n",
    "df_pro.MOT = pd.to_datetime(df_raw.MOT, format='%b %Y', coerce=True)\n",
    "df_pro.year = df_raw.year\n",
    "df_pro.year = df_raw.year.str.replace(pat=' \\(.+\\)', repl='')\n",
    "df_pro.year = pd.to_datetime(df_pro.year, format='%b %Y')"
   ]
  },
  {
   "cell_type": "markdown",
   "metadata": {},
   "source": [
    "### Convert Price and Mileage to Floats"
   ]
  },
  {
   "cell_type": "code",
   "execution_count": 6,
   "metadata": {
    "collapsed": false
   },
   "outputs": [],
   "source": [
    "# Strip commas and missing values\n",
    "df_pro.mileage = df_pro.mileage.str.replace(',', '')\n",
    "df_pro.mileage = df_pro.mileage.str.replace('not showing', 'NAN')\n",
    "df_pro.mileage = df_pro.mileage.str.replace('Not Showing', 'NAN')\n",
    "df_pro.mileage = df_pro.mileage.str.replace('.', 'NAN')\n",
    "\n",
    "# Convert km to miles\n",
    "km_idx = df_pro.mileage.str.contains('km')\n",
    "for idx in km_idx.nonzero()[0]:\n",
    "    df_pro.loc[idx, 'mileage'] = 5 * int(df_pro.loc[idx, 'mileage'].split(' ')[0]) / 8. \n",
    "    \n",
    "df_pro.mileage = df_pro.mileage.astype(float)"
   ]
  },
  {
   "cell_type": "code",
   "execution_count": 7,
   "metadata": {
    "collapsed": false
   },
   "outputs": [],
   "source": [
    "# Convert Price To string then munge then to floats\n",
    "df_pro.price = df_pro.price.str.replace(',', '')\n",
    "df_pro.price = df_pro.price.str.replace(u'\\xa3', '')\n",
    "df_pro.price = df_pro.price.astype(float)"
   ]
  },
  {
   "cell_type": "markdown",
   "metadata": {},
   "source": [
    "### Save Preprocessed Data "
   ]
  },
  {
   "cell_type": "code",
   "execution_count": 8,
   "metadata": {
    "collapsed": true
   },
   "outputs": [],
   "source": [
    "df_pro.to_csv('car_auction_processed.csv', index=False)"
   ]
  },
  {
   "cell_type": "markdown",
   "metadata": {},
   "source": [
    "# Feature Encoding"
   ]
  },
  {
   "cell_type": "code",
   "execution_count": 9,
   "metadata": {
    "collapsed": true
   },
   "outputs": [],
   "source": [
    "df_enc = df_pro.copy()"
   ]
  },
  {
   "cell_type": "code",
   "execution_count": 10,
   "metadata": {
    "collapsed": false
   },
   "outputs": [],
   "source": [
    "# Ecode Dates as ordinals  \n",
    "MOT_decoder = np.unique(df_enc.MOT)\n",
    "df_enc['MOT_ord'] = np.unique(df_enc.MOT, return_inverse=True)[1]\n",
    "\n",
    "year_decoder = np.unique(df_enc.year)\n",
    "df_enc['year_ord'] = np.unique(df_enc.year, return_inverse=True)[1]"
   ]
  },
  {
   "cell_type": "code",
   "execution_count": 11,
   "metadata": {
    "collapsed": false
   },
   "outputs": [],
   "source": [
    "# Encode model categorical as ordinal \n",
    "model_decoder = np.unique(df_enc.model)\n",
    "df_enc.model = np.unique(df_enc.model, return_inverse=True)[1]\n",
    "\n",
    "# Encode make categorical as ordinal \n",
    "make_decoder = np.unique(df_enc.make)\n",
    "df_enc.make = np.unique(df_enc.make, return_inverse=True)[1]\n",
    "\n",
    "# Encode class categorical as ordinal \n",
    "class_decoder = np.unique(df_enc['class'])\n",
    "df_enc['class'] = np.unique(df_enc['class'], return_inverse=True)[1]"
   ]
  },
  {
   "cell_type": "code",
   "execution_count": 12,
   "metadata": {
    "collapsed": false
   },
   "outputs": [],
   "source": [
    "# Dealing with NANS\n",
    "df_enc.loc[df_enc.mileage.isnull(), 'mileage'] = 9999999999999"
   ]
  },
  {
   "cell_type": "code",
   "execution_count": 13,
   "metadata": {
    "collapsed": false
   },
   "outputs": [],
   "source": [
    "# Write Ouput file \n",
    "df_enc.to_csv('car_auction_enc.csv', index=False)"
   ]
  }
 ],
 "metadata": {
  "kernelspec": {
   "display_name": "Python 3",
   "language": "python",
   "name": "python3"
  },
  "language_info": {
   "codemirror_mode": {
    "name": "ipython",
    "version": 3
   },
   "file_extension": ".py",
   "mimetype": "text/x-python",
   "name": "python",
   "nbconvert_exporter": "python",
   "pygments_lexer": "ipython3",
   "version": "3.4.3"
  }
 },
 "nbformat": 4,
 "nbformat_minor": 0
}
